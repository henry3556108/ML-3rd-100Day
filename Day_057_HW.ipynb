{
 "cells": [
  {
   "cell_type": "markdown",
   "metadata": {},
   "source": [
    "# 作業\n",
    "- 作業目標 : 用 iris (dataset.load_iris()) 資料嘗試跑 hierarchical clustering"
   ]
  },
  {
   "cell_type": "code",
   "execution_count": 16,
   "metadata": {},
   "outputs": [],
   "source": [
    "from sklearn import datasets\n",
    "import numpy as np\n",
    "from sklearn.cluster import AgglomerativeClustering\n",
    "from sklearn.metrics import accuracy_score\n",
    "\n",
    "iris = datasets.load_iris()\n",
    "\n",
    "np.random.seed(5)\n",
    "\n",
    "X = iris.data\n",
    "y = iris.target\n"
   ]
  },
  {
   "cell_type": "markdown",
   "metadata": {},
   "source": [
    "載入 相關套件 並 執行 hierarchical clustering 實驗 ..."
   ]
  },
  {
   "cell_type": "code",
   "execution_count": 17,
   "metadata": {},
   "outputs": [],
   "source": [
    "estimators = ['ward','complete','average']"
   ]
  },
  {
   "cell_type": "code",
   "execution_count": 21,
   "metadata": {},
   "outputs": [
    {
     "name": "stdout",
     "output_type": "stream",
     "text": [
      "3\n",
      "0.23333333333333334\n",
      "0.006666666666666667\n",
      "0.24\n",
      "4\n",
      "0.09333333333333334\n",
      "0.49333333333333335\n",
      "0.09333333333333334\n",
      "5\n",
      "0.5933333333333334\n",
      "0.006666666666666667\n",
      "0.4266666666666667\n",
      "6\n",
      "0.16666666666666666\n",
      "0.1\n",
      "0.0\n",
      "7\n",
      "0.13333333333333333\n",
      "0.006666666666666667\n",
      "0.14666666666666667\n"
     ]
    }
   ],
   "source": [
    "for n_cluster in [3, 4, 5, 6, 7]:\n",
    "    print(n_cluster)\n",
    "    for link in estimators:\n",
    "        est = AgglomerativeClustering(n_clusters=n_cluster, linkage=link)\n",
    "        y_pred = est.fit_predict(X)\n",
    "        print(accuracy_score(y,y_pred))"
   ]
  },
  {
   "cell_type": "code",
   "execution_count": null,
   "metadata": {},
   "outputs": [],
   "source": []
  }
 ],
 "metadata": {
  "kernelspec": {
   "display_name": "Python 3",
   "language": "python",
   "name": "python3"
  },
  "language_info": {
   "codemirror_mode": {
    "name": "ipython",
    "version": 3
   },
   "file_extension": ".py",
   "mimetype": "text/x-python",
   "name": "python",
   "nbconvert_exporter": "python",
   "pygments_lexer": "ipython3",
   "version": "3.6.8"
  }
 },
 "nbformat": 4,
 "nbformat_minor": 2
}
