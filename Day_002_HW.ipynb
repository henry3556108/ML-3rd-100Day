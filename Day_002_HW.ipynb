{
  "nbformat": 4,
  "nbformat_minor": 0,
  "metadata": {
    "kernelspec": {
      "display_name": "Python 3",
      "language": "python",
      "name": "python3"
    },
    "language_info": {
      "codemirror_mode": {
        "name": "ipython",
        "version": 3
      },
      "file_extension": ".py",
      "mimetype": "text/x-python",
      "name": "python",
      "nbconvert_exporter": "python",
      "pygments_lexer": "ipython3",
      "version": "3.6.6"
    },
    "colab": {
      "name": "Day_002_HW.ipynb",
      "version": "0.3.2",
      "provenance": []
    }
  },
  "cells": [
    {
      "cell_type": "markdown",
      "metadata": {
        "id": "GP2Wc2RDT5KU",
        "colab_type": "text"
      },
      "source": [
        "## [作業目標]\n",
        "了解機器學習適合應用的領域與範疇。"
      ]
    },
    {
      "cell_type": "markdown",
      "metadata": {
        "id": "LEKtfjrFT5KV",
        "colab_type": "text"
      },
      "source": [
        "## [作業重點]\n",
        "透過瞭解機器學習的運作方式，找出非常適用機器學習應用的領域及其原因"
      ]
    },
    {
      "cell_type": "markdown",
      "metadata": {
        "id": "LgTox0JHT5KV",
        "colab_type": "text"
      },
      "source": [
        "## 作業\n",
        "請找出一個你認為機器學習可以發光發熱的領域並闡述原因? "
      ]
    },
    {
      "cell_type": "markdown",
      "metadata": {
        "id": "fbJ4Z5BST7VE",
        "colab_type": "text"
      },
      "source": [
        "我覺得在餐廳裡面可以發光發熱，最近在吃火鍋發現，在不同天氣會喜歡吃的餐點都不太依樣，如果能有一個演算法能夠幫助店家，根据天氣進貨備料，了解客人喜歡甚麼，那這樣能幫助店家節省成本。"
      ]
    }
  ]
}