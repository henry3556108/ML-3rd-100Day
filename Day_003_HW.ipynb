{
  "nbformat": 4,
  "nbformat_minor": 0,
  "metadata": {
    "kernelspec": {
      "display_name": "Python 3",
      "language": "python",
      "name": "python3"
    },
    "language_info": {
      "codemirror_mode": {
        "name": "ipython",
        "version": 3
      },
      "file_extension": ".py",
      "mimetype": "text/x-python",
      "name": "python",
      "nbconvert_exporter": "python",
      "pygments_lexer": "ipython3",
      "version": "3.7.0"
    },
    "colab": {
      "name": "Day_003_HW.ipynb",
      "version": "0.3.2",
      "provenance": []
    }
  },
  "cells": [
    {
      "cell_type": "markdown",
      "metadata": {
        "id": "pmD12MvpRTW2",
        "colab_type": "text"
      },
      "source": [
        "## [作業目標]\n",
        "持續接觸有關機器學習的相關專案與最新技術"
      ]
    },
    {
      "cell_type": "markdown",
      "metadata": {
        "id": "65yQj2ZcRTW3",
        "colab_type": "text"
      },
      "source": [
        "## [作業重點]\n",
        "透過觀察頂尖公司的機器學習文章，來了解各公司是怎麼應用機器學習在實際的專案上"
      ]
    },
    {
      "cell_type": "markdown",
      "metadata": {
        "id": "FI6tElFGRTW4",
        "colab_type": "text"
      },
      "source": [
        "## [作業]\n",
        "今天的作業希望大家能夠看看全球機器學習巨頭們在做的機器學習專案。以 google 為例，下圖是 Google 內部專案使用機器學習的數量，隨著時間進展，現在早已超過 2000 個專案在使用機器學習。"
      ]
    },
    {
      "cell_type": "markdown",
      "metadata": {
        "id": "3h8zoEGtRTW4",
        "colab_type": "text"
      },
      "source": [
        "![image](https://cdn-images-1.medium.com/max/800/1*U_L8qI8RmYS-MOBrYvXhSA.png)"
      ]
    },
    {
      "cell_type": "markdown",
      "metadata": {
        "id": "4bCcdeE0RTW5",
        "colab_type": "text"
      },
      "source": [
        "底下幫同學整理幾間知名企業的 blog 或機器學習網站 (自行搜尋也可)，這些網站都會整理最新的機器學習專案或者是技術文章，請挑選一篇文章閱讀並試著回答\n",
        "1. 專案的目標？ (要解決什麼問題）\n",
        "2. 使用的技術是？ (只需知道名稱即可，例如：使用 CNN 卷積神經網路做影像分類)\n",
        "3. 資料來源？ "
      ]
    },
    {
      "cell_type": "markdown",
      "metadata": {
        "id": "SiiXM6fkRTW6",
        "colab_type": "text"
      },
      "source": [
        "- [Google AI blog](https://ai.googleblog.com/)\n",
        "- [Facebook Research blog](https://research.fb.com/blog/)\n",
        "- [Apple machine learning journal](https://machinelearning.apple.com/)\n",
        "- [機器之心](https://www.jiqizhixin.com/)\n",
        "- [雷鋒網](http://www.leiphone.com/category/ai)"
      ]
    },
    {
      "cell_type": "code",
      "metadata": {
        "id": "F2Z0CoIuRTW7",
        "colab_type": "code",
        "colab": {}
      },
      "source": [
        "這是我選擇的文章:https://ai.googleblog.com/\n",
        "\n",
        "    專案目標\n",
        "      透過WANN來突破過往在Deep Learning中傳統權重非常重要的一個角色，他反而讓權重不再那麼重要，讓我們省下了許多計算資源。同時也能進一步優化Deep Learning在圖像領域的發展，在感知環境中有不非常不錯的表現。甚至能協助色盲幫忙辨識空間\n",
        "    使用技術\n",
        "      WANN\n",
        "    資料來源 GOOGLE AI Blog"
      ],
      "execution_count": 0,
      "outputs": []
    }
  ]
}