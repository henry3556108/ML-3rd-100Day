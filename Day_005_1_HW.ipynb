{
  "nbformat": 4,
  "nbformat_minor": 0,
  "metadata": {
    "kernelspec": {
      "display_name": "Python 3",
      "language": "python",
      "name": "python3"
    },
    "language_info": {
      "codemirror_mode": {
        "name": "ipython",
        "version": 3
      },
      "file_extension": ".py",
      "mimetype": "text/x-python",
      "name": "python",
      "nbconvert_exporter": "python",
      "pygments_lexer": "ipython3",
      "version": "3.6.8"
    },
    "colab": {
      "name": "Day_005-1_HW.ipynb",
      "version": "0.3.2",
      "provenance": []
    }
  },
  "cells": [
    {
      "cell_type": "markdown",
      "metadata": {
        "id": "HZn5JkiNuhyQ",
        "colab_type": "text"
      },
      "source": [
        "# [作業目標]\n",
        "- 利用範例的創建方式, 創建一組資料, 並練習如何取出最大值"
      ]
    },
    {
      "cell_type": "markdown",
      "metadata": {
        "id": "hR25IdIUuhyR",
        "colab_type": "text"
      },
      "source": [
        "# [作業重點]\n",
        "- 練習創立 DataFrame (In[2])\n",
        "- 如何取出口數最多的國家 (In[3], Out[3])"
      ]
    },
    {
      "cell_type": "markdown",
      "metadata": {
        "id": "7d_DaGkQuhyS",
        "colab_type": "text"
      },
      "source": [
        "## 練習時間\n",
        "在小量的資料上，我們用眼睛就可以看得出來程式碼是否有跑出我們理想中的結果\n",
        "\n",
        "請嘗試想像一個你需要的資料結構 (裡面的值可以是隨機的)，然後用上述的方法把它變成 pandas DataFrame\n",
        "\n",
        "#### Ex: 想像一個 dataframe 有兩個欄位，一個是國家，一個是人口，求人口數最多的國家\n",
        "\n",
        "### Hints: [隨機產生數值](https://blog.csdn.net/christianashannon/article/details/78867204)"
      ]
    },
    {
      "cell_type": "code",
      "metadata": {
        "id": "vYRdQWm5uhyS",
        "colab_type": "code",
        "colab": {}
      },
      "source": [
        "import pandas as pd\n",
        "import numpy as np\n",
        "from random import randint"
      ],
      "execution_count": 0,
      "outputs": []
    },
    {
      "cell_type": "code",
      "metadata": {
        "id": "pqswzKLruhyV",
        "colab_type": "code",
        "colab": {}
      },
      "source": [
        "data = {'國家': [\"Taipei\",\"Taipeis\"] ,'人口': [0,2]}\n",
        "countrys = ['Taiwan',\"China\",\"Japan\",\"England\"]\n",
        "population = list(map(lambda x : randint(1,100),countrys))\n",
        "data['國家'] = countrys\n",
        "data['人口'] = population\n",
        "data = pd.DataFrame.from_dict(data)"
      ],
      "execution_count": 0,
      "outputs": []
    },
    {
      "cell_type": "code",
      "metadata": {
        "id": "O5RExE8vuhyX",
        "colab_type": "code",
        "colab": {},
        "outputId": "f3916643-d06e-4b0e-a4d6-41a5c58b4567"
      },
      "source": [
        "print(data['人口'].max())"
      ],
      "execution_count": 0,
      "outputs": [
        {
          "output_type": "stream",
          "text": [
            "99\n"
          ],
          "name": "stdout"
        }
      ]
    },
    {
      "cell_type": "code",
      "metadata": {
        "id": "f6NNO8uIuhya",
        "colab_type": "code",
        "colab": {},
        "outputId": "32f2e6db-3ad8-47a3-e30e-d538050a2539"
      },
      "source": [
        "print(data[data['人口']==data['人口'].max()])"
      ],
      "execution_count": 0,
      "outputs": [
        {
          "output_type": "stream",
          "text": [
            "        國家  人口\n",
            "3  England  99\n"
          ],
          "name": "stdout"
        }
      ]
    },
    {
      "cell_type": "code",
      "metadata": {
        "id": "9chKlcDKuhyc",
        "colab_type": "code",
        "colab": {}
      },
      "source": [
        ""
      ],
      "execution_count": 0,
      "outputs": []
    }
  ]
}