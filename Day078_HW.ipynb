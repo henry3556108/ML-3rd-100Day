{
 "cells": [
  {
   "cell_type": "markdown",
   "metadata": {},
   "source": [
    "## Work\n",
    "1. 請嘗試將 preproc_x 替換成以每筆資料的 min/max 進行標準化至 -1 ~ 1 間，再進行訓練\n",
    "2. 請嘗試將 mlp 疊更深 (e.g 5~10 層)，進行訓練後觀察 learning curve 的走勢\n",
    "3. (optional) 請改用 GPU 進行訓練 (如果你有 GPU 的話)，比較使用 CPU 與 GPU 的訓練速度"
   ]
  },
  {
   "cell_type": "code",
   "execution_count": 1,
   "metadata": {},
   "outputs": [
    {
     "name": "stderr",
     "output_type": "stream",
     "text": [
      "'nvidia-smi' 不是內部或外部命令、可執行的程式或批次檔。\n"
     ]
    }
   ],
   "source": [
    "## \n",
    "\"\"\"\n",
    "Your code here (optional)\n",
    "確認硬體資源\n",
    "\"\"\"\n",
    "!nvidia-smi"
   ]
  },
  {
   "cell_type": "code",
   "execution_count": 16,
   "metadata": {},
   "outputs": [],
   "source": [
    "import os\n",
    "import keras\n",
    "\n",
    "# 請嘗試設定 GPU：os.environ\n",
    "\n",
    "os.environ[\"CUDA_VISIBLE_DEVICES\"] = \"0\""
   ]
  },
  {
   "cell_type": "code",
   "execution_count": 17,
   "metadata": {},
   "outputs": [],
   "source": [
    "(x_train, y_train), (x_test, y_test) = keras.datasets.cifar10.load_data()"
   ]
  },
  {
   "cell_type": "code",
   "execution_count": 27,
   "metadata": {},
   "outputs": [],
   "source": [
    "## 資料前處理\n",
    "from sklearn.preprocessing import MinMaxScaler\n",
    "\n",
    "def preproc_x(x, flatten=True):\n",
    "    scaler = MinMaxScaler((-1,1))\n",
    "    x = scaler.fit_transform(x)\n",
    "    if flatten:\n",
    "        x = x.reshape((len(x), -1))\n",
    "    return x\n",
    "\n",
    "def preproc_y(y, num_classes=10):\n",
    "    if y.shape[-1] == 1:\n",
    "        y = keras.utils.to_categorical(y, num_classes)\n",
    "    return y    "
   ]
  },
  {
   "cell_type": "code",
   "execution_count": 28,
   "metadata": {},
   "outputs": [],
   "source": [
    "\n",
    "# Preproc the inputs\n",
    "x_train = preproc_x(x_train)\n",
    "x_test = preproc_x(x_test)\n",
    "\n",
    "# Preprc the outputs\n",
    "y_train = preproc_y(y_train)\n",
    "y_test = preproc_y(y_test)"
   ]
  },
  {
   "cell_type": "code",
   "execution_count": 29,
   "metadata": {},
   "outputs": [
    {
     "name": "stdout",
     "output_type": "stream",
     "text": [
      "_________________________________________________________________\n",
      "Layer (type)                 Output Shape              Param #   \n",
      "=================================================================\n",
      "input_3 (InputLayer)         (None, 3072)              0         \n",
      "_________________________________________________________________\n",
      "hidden_layer1 (Dense)        (None, 128)               393344    \n",
      "_________________________________________________________________\n",
      "hidden_layer2 (Dense)        (None, 128)               16512     \n",
      "_________________________________________________________________\n",
      "hidden_layer3 (Dense)        (None, 128)               16512     \n",
      "_________________________________________________________________\n",
      "hidden_layer4 (Dense)        (None, 128)               16512     \n",
      "_________________________________________________________________\n",
      "hidden_layer5 (Dense)        (None, 128)               16512     \n",
      "_________________________________________________________________\n",
      "output (Dense)               (None, 10)                1290      \n",
      "=================================================================\n",
      "Total params: 460,682\n",
      "Trainable params: 460,682\n",
      "Non-trainable params: 0\n",
      "_________________________________________________________________\n"
     ]
    }
   ],
   "source": [
    "def build_mlp(input_shape, output_units=10, num_neurons=[128, 128, 128, 128, 128]):\n",
    "    input_layer = keras.layers.Input(input_shape)\n",
    "    \n",
    "    for i, n_units in enumerate(num_neurons):\n",
    "        if i == 0:\n",
    "            x = keras.layers.Dense(units=n_units, activation=\"relu\", name=\"hidden_layer\"+str(i+1))(input_layer)\n",
    "        else:\n",
    "            x = keras.layers.Dense(units=n_units, activation=\"relu\", name=\"hidden_layer\"+str(i+1))(x)\n",
    "    \n",
    "    out = keras.layers.Dense(units=output_units, activation=\"softmax\", name=\"output\")(x)\n",
    "    \n",
    "    model = keras.models.Model(inputs=[input_layer], outputs=[out])\n",
    "    return model\n",
    "model = build_mlp(input_shape=x_train.shape[1:])\n",
    "\n",
    "model.summary()"
   ]
  },
  {
   "cell_type": "code",
   "execution_count": 33,
   "metadata": {},
   "outputs": [],
   "source": [
    "## 超參數設定\n",
    "LEARNING_RATE = 0.001\n",
    "EPOCHS = 100\n",
    "BATCH_SIZE = 256"
   ]
  },
  {
   "cell_type": "code",
   "execution_count": 31,
   "metadata": {},
   "outputs": [],
   "source": [
    "optimizer = keras.optimizers.Adam(lr=LEARNING_RATE)\n",
    "model.compile(loss=\"categorical_crossentropy\", metrics=[\"accuracy\"], optimizer=optimizer)"
   ]
  },
  {
   "cell_type": "code",
   "execution_count": 32,
   "metadata": {},
   "outputs": [
    {
     "name": "stdout",
     "output_type": "stream",
     "text": [
      "Train on 50000 samples, validate on 10000 samples\n",
      "Epoch 1/100\n",
      "50000/50000 [==============================] - 10s 195us/step - loss: 1.6951 - acc: 0.3960 - val_loss: 1.5402 - val_acc: 0.4526\n",
      "Epoch 2/100\n",
      "50000/50000 [==============================] - 8s 169us/step - loss: 1.4803 - acc: 0.4762 - val_loss: 1.4537 - val_acc: 0.4850\n",
      "Epoch 3/100\n",
      "50000/50000 [==============================] - 8s 168us/step - loss: 1.3773 - acc: 0.5136 - val_loss: 1.4234 - val_acc: 0.4989\n",
      "Epoch 4/100\n",
      "50000/50000 [==============================] - 9s 170us/step - loss: 1.3012 - acc: 0.5379 - val_loss: 1.3879 - val_acc: 0.5123\n",
      "Epoch 5/100\n",
      "50000/50000 [==============================] - 8s 156us/step - loss: 1.2316 - acc: 0.5646 - val_loss: 1.4080 - val_acc: 0.5029\n",
      "Epoch 6/100\n",
      "50000/50000 [==============================] - 8s 165us/step - loss: 1.1702 - acc: 0.5844 - val_loss: 1.3706 - val_acc: 0.5217\n",
      "Epoch 7/100\n",
      "50000/50000 [==============================] - 8s 167us/step - loss: 1.1215 - acc: 0.6023 - val_loss: 1.4070 - val_acc: 0.5128\n",
      "Epoch 8/100\n",
      "50000/50000 [==============================] - 8s 165us/step - loss: 1.0752 - acc: 0.6176 - val_loss: 1.3819 - val_acc: 0.5273\n",
      "Epoch 9/100\n",
      "50000/50000 [==============================] - 8s 169us/step - loss: 1.0279 - acc: 0.6341 - val_loss: 1.4357 - val_acc: 0.5161\n",
      "Epoch 10/100\n",
      "50000/50000 [==============================] - 8s 161us/step - loss: 0.9818 - acc: 0.6488 - val_loss: 1.4134 - val_acc: 0.5185\n",
      "Epoch 11/100\n",
      "50000/50000 [==============================] - 8s 164us/step - loss: 0.9445 - acc: 0.6624 - val_loss: 1.4175 - val_acc: 0.5220\n",
      "Epoch 12/100\n",
      "50000/50000 [==============================] - 9s 173us/step - loss: 0.9002 - acc: 0.6795 - val_loss: 1.4152 - val_acc: 0.5237\n",
      "Epoch 13/100\n",
      "50000/50000 [==============================] - 8s 163us/step - loss: 0.8589 - acc: 0.6943 - val_loss: 1.4967 - val_acc: 0.5163\n",
      "Epoch 14/100\n",
      "50000/50000 [==============================] - 8s 166us/step - loss: 0.8248 - acc: 0.7059 - val_loss: 1.5096 - val_acc: 0.5245\n",
      "Epoch 15/100\n",
      "50000/50000 [==============================] - 9s 173us/step - loss: 0.7797 - acc: 0.7207 - val_loss: 1.5784 - val_acc: 0.5202\n",
      "Epoch 16/100\n",
      "50000/50000 [==============================] - 8s 167us/step - loss: 0.7490 - acc: 0.7318 - val_loss: 1.5910 - val_acc: 0.5081\n",
      "Epoch 17/100\n",
      "50000/50000 [==============================] - 8s 165us/step - loss: 0.7069 - acc: 0.7468 - val_loss: 1.6224 - val_acc: 0.5173\n",
      "Epoch 18/100\n",
      "50000/50000 [==============================] - 9s 174us/step - loss: 0.6852 - acc: 0.7537 - val_loss: 1.6706 - val_acc: 0.5177\n",
      "Epoch 19/100\n",
      "50000/50000 [==============================] - 8s 164us/step - loss: 0.6481 - acc: 0.7680 - val_loss: 1.7195 - val_acc: 0.5189\n",
      "Epoch 20/100\n",
      "50000/50000 [==============================] - 9s 173us/step - loss: 0.6168 - acc: 0.7794 - val_loss: 1.8188 - val_acc: 0.5090\n",
      "Epoch 21/100\n",
      "50000/50000 [==============================] - 9s 171us/step - loss: 0.5885 - acc: 0.7896 - val_loss: 1.8146 - val_acc: 0.5137\n",
      "Epoch 22/100\n",
      "50000/50000 [==============================] - 9s 175us/step - loss: 0.5649 - acc: 0.7986 - val_loss: 1.8960 - val_acc: 0.5117\n",
      "Epoch 23/100\n",
      "50000/50000 [==============================] - 9s 173us/step - loss: 0.5350 - acc: 0.8080 - val_loss: 1.9793 - val_acc: 0.5100\n",
      "Epoch 24/100\n",
      "50000/50000 [==============================] - 9s 189us/step - loss: 0.5050 - acc: 0.8207 - val_loss: 2.0368 - val_acc: 0.5085\n",
      "Epoch 25/100\n",
      "50000/50000 [==============================] - 9s 173us/step - loss: 0.4805 - acc: 0.8269 - val_loss: 2.0858 - val_acc: 0.5091\n",
      "Epoch 26/100\n",
      "50000/50000 [==============================] - 9s 176us/step - loss: 0.4592 - acc: 0.8369 - val_loss: 2.1612 - val_acc: 0.5077\n",
      "Epoch 27/100\n",
      "50000/50000 [==============================] - 9s 180us/step - loss: 0.4483 - acc: 0.8406 - val_loss: 2.1726 - val_acc: 0.5078\n",
      "Epoch 28/100\n",
      "50000/50000 [==============================] - 8s 160us/step - loss: 0.4254 - acc: 0.8470 - val_loss: 2.2176 - val_acc: 0.5115\n",
      "Epoch 29/100\n",
      "50000/50000 [==============================] - 8s 165us/step - loss: 0.3987 - acc: 0.8577 - val_loss: 2.3519 - val_acc: 0.5084\n",
      "Epoch 30/100\n",
      "50000/50000 [==============================] - 10s 192us/step - loss: 0.3866 - acc: 0.8630 - val_loss: 2.4090 - val_acc: 0.4987\n",
      "Epoch 31/100\n",
      "50000/50000 [==============================] - 9s 184us/step - loss: 0.3637 - acc: 0.8683 - val_loss: 2.4857 - val_acc: 0.5024\n",
      "Epoch 32/100\n",
      "50000/50000 [==============================] - 8s 166us/step - loss: 0.3523 - acc: 0.8750 - val_loss: 2.5805 - val_acc: 0.4991\n",
      "Epoch 33/100\n",
      "50000/50000 [==============================] - 9s 185us/step - loss: 0.3597 - acc: 0.8719 - val_loss: 2.4774 - val_acc: 0.5002\n",
      "Epoch 34/100\n",
      "50000/50000 [==============================] - 9s 180us/step - loss: 0.3367 - acc: 0.8798 - val_loss: 2.6938 - val_acc: 0.4999\n",
      "Epoch 35/100\n",
      "50000/50000 [==============================] - 9s 173us/step - loss: 0.3222 - acc: 0.8854 - val_loss: 2.7193 - val_acc: 0.5068\n",
      "Epoch 36/100\n",
      "50000/50000 [==============================] - 9s 178us/step - loss: 0.2998 - acc: 0.8929 - val_loss: 2.8209 - val_acc: 0.5009\n",
      "Epoch 37/100\n",
      "50000/50000 [==============================] - 9s 170us/step - loss: 0.2903 - acc: 0.8971 - val_loss: 2.9170 - val_acc: 0.4938\n",
      "Epoch 38/100\n",
      "50000/50000 [==============================] - 8s 163us/step - loss: 0.3080 - acc: 0.8899 - val_loss: 2.8551 - val_acc: 0.4990\n",
      "Epoch 39/100\n",
      "50000/50000 [==============================] - 8s 168us/step - loss: 0.2715 - acc: 0.9023 - val_loss: 3.0209 - val_acc: 0.4935\n",
      "Epoch 40/100\n",
      "50000/50000 [==============================] - 8s 168us/step - loss: 0.2735 - acc: 0.9018 - val_loss: 3.0456 - val_acc: 0.4969\n",
      "Epoch 41/100\n",
      "50000/50000 [==============================] - 8s 163us/step - loss: 0.2466 - acc: 0.9125 - val_loss: 3.0487 - val_acc: 0.4937\n",
      "Epoch 42/100\n",
      "50000/50000 [==============================] - 8s 168us/step - loss: 0.2615 - acc: 0.9077 - val_loss: 3.0364 - val_acc: 0.4939\n",
      "Epoch 43/100\n",
      "50000/50000 [==============================] - 8s 167us/step - loss: 0.2381 - acc: 0.9146 - val_loss: 3.1540 - val_acc: 0.4955\n",
      "Epoch 44/100\n",
      "50000/50000 [==============================] - 8s 165us/step - loss: 0.2381 - acc: 0.9165 - val_loss: 3.1732 - val_acc: 0.4962\n",
      "Epoch 45/100\n",
      "50000/50000 [==============================] - 9s 173us/step - loss: 0.2521 - acc: 0.9100 - val_loss: 3.1910 - val_acc: 0.5006\n",
      "Epoch 46/100\n",
      "50000/50000 [==============================] - 9s 173us/step - loss: 0.2145 - acc: 0.9237 - val_loss: 3.2849 - val_acc: 0.4958\n",
      "Epoch 47/100\n",
      "50000/50000 [==============================] - 8s 161us/step - loss: 0.2221 - acc: 0.9211 - val_loss: 3.2927 - val_acc: 0.4984\n",
      "Epoch 48/100\n",
      "50000/50000 [==============================] - 8s 167us/step - loss: 0.2121 - acc: 0.9248 - val_loss: 3.4262 - val_acc: 0.5005\n",
      "Epoch 49/100\n",
      "50000/50000 [==============================] - 8s 168us/step - loss: 0.2168 - acc: 0.9241 - val_loss: 3.3715 - val_acc: 0.4933\n",
      "Epoch 50/100\n",
      "50000/50000 [==============================] - 8s 164us/step - loss: 0.1986 - acc: 0.9294 - val_loss: 3.4954 - val_acc: 0.4980\n",
      "Epoch 51/100\n",
      "50000/50000 [==============================] - 8s 167us/step - loss: 0.2168 - acc: 0.9237 - val_loss: 3.4105 - val_acc: 0.5023\n",
      "Epoch 52/100\n",
      "50000/50000 [==============================] - 8s 166us/step - loss: 0.2195 - acc: 0.9235 - val_loss: 3.4715 - val_acc: 0.4933\n",
      "Epoch 53/100\n",
      "50000/50000 [==============================] - 8s 165us/step - loss: 0.1897 - acc: 0.9343 - val_loss: 3.6166 - val_acc: 0.4962\n",
      "Epoch 54/100\n",
      "50000/50000 [==============================] - 8s 167us/step - loss: 0.1833 - acc: 0.9353 - val_loss: 3.5986 - val_acc: 0.4939\n",
      "Epoch 55/100\n",
      "50000/50000 [==============================] - 8s 169us/step - loss: 0.1896 - acc: 0.9336 - val_loss: 3.6014 - val_acc: 0.5017\n",
      "Epoch 56/100\n",
      "50000/50000 [==============================] - 8s 165us/step - loss: 0.2050 - acc: 0.9291 - val_loss: 3.6017 - val_acc: 0.4962\n",
      "Epoch 57/100\n",
      "50000/50000 [==============================] - 8s 170us/step - loss: 0.1949 - acc: 0.9321 - val_loss: 3.5522 - val_acc: 0.4967\n",
      "Epoch 58/100\n",
      "50000/50000 [==============================] - 8s 167us/step - loss: 0.1643 - acc: 0.9421 - val_loss: 3.6915 - val_acc: 0.4935\n",
      "Epoch 59/100\n"
     ]
    },
    {
     "name": "stdout",
     "output_type": "stream",
     "text": [
      "50000/50000 [==============================] - 8s 164us/step - loss: 0.1601 - acc: 0.9444 - val_loss: 3.7160 - val_acc: 0.4874\n",
      "Epoch 60/100\n",
      "50000/50000 [==============================] - 8s 169us/step - loss: 0.1650 - acc: 0.9422 - val_loss: 3.7698 - val_acc: 0.4859\n",
      "Epoch 61/100\n",
      "50000/50000 [==============================] - 10s 190us/step - loss: 0.1858 - acc: 0.9352 - val_loss: 3.7741 - val_acc: 0.4945\n",
      "Epoch 62/100\n",
      "50000/50000 [==============================] - 9s 173us/step - loss: 0.1596 - acc: 0.9429 - val_loss: 3.8489 - val_acc: 0.4991\n",
      "Epoch 63/100\n",
      "50000/50000 [==============================] - 8s 167us/step - loss: 0.1774 - acc: 0.9391 - val_loss: 3.8602 - val_acc: 0.4958\n",
      "Epoch 64/100\n",
      "50000/50000 [==============================] - 8s 170us/step - loss: 0.1930 - acc: 0.9329 - val_loss: 3.7414 - val_acc: 0.4999\n",
      "Epoch 65/100\n",
      "50000/50000 [==============================] - 13s 252us/step - loss: 0.1657 - acc: 0.9436 - val_loss: 3.7872 - val_acc: 0.4911\n",
      "Epoch 66/100\n",
      "50000/50000 [==============================] - 9s 171us/step - loss: 0.1375 - acc: 0.9524 - val_loss: 3.9485 - val_acc: 0.4925\n",
      "Epoch 67/100\n",
      "50000/50000 [==============================] - 8s 159us/step - loss: 0.1358 - acc: 0.9530 - val_loss: 4.0535 - val_acc: 0.4932\n",
      "Epoch 68/100\n",
      "50000/50000 [==============================] - 8s 168us/step - loss: 0.1844 - acc: 0.9365 - val_loss: 3.9049 - val_acc: 0.4876\n",
      "Epoch 69/100\n",
      "50000/50000 [==============================] - 9s 172us/step - loss: 0.1826 - acc: 0.9371 - val_loss: 3.9512 - val_acc: 0.4941\n",
      "Epoch 70/100\n",
      "50000/50000 [==============================] - 8s 168us/step - loss: 0.1394 - acc: 0.9522 - val_loss: 4.0359 - val_acc: 0.5021\n",
      "Epoch 71/100\n",
      "50000/50000 [==============================] - 8s 165us/step - loss: 0.1450 - acc: 0.9500 - val_loss: 4.0105 - val_acc: 0.4904\n",
      "Epoch 72/100\n",
      "50000/50000 [==============================] - 8s 167us/step - loss: 0.1657 - acc: 0.9424 - val_loss: 4.0401 - val_acc: 0.4941\n",
      "Epoch 73/100\n",
      "50000/50000 [==============================] - 8s 166us/step - loss: 0.1511 - acc: 0.9489 - val_loss: 3.9966 - val_acc: 0.4968\n",
      "Epoch 74/100\n",
      "50000/50000 [==============================] - 8s 168us/step - loss: 0.1156 - acc: 0.9597 - val_loss: 4.1404 - val_acc: 0.4904\n",
      "Epoch 75/100\n",
      "50000/50000 [==============================] - 9s 172us/step - loss: 0.1741 - acc: 0.9405 - val_loss: 4.0179 - val_acc: 0.4924\n",
      "Epoch 76/100\n",
      "50000/50000 [==============================] - 8s 164us/step - loss: 0.1568 - acc: 0.9471 - val_loss: 3.9801 - val_acc: 0.4946\n",
      "Epoch 77/100\n",
      "50000/50000 [==============================] - 8s 165us/step - loss: 0.1189 - acc: 0.9592 - val_loss: 4.0080 - val_acc: 0.4974loss: 0.1164 - acc:\n",
      "Epoch 78/100\n",
      "50000/50000 [==============================] - 9s 171us/step - loss: 0.1562 - acc: 0.9463 - val_loss: 4.0741 - val_acc: 0.4947\n",
      "Epoch 79/100\n",
      "50000/50000 [==============================] - 8s 163us/step - loss: 0.1443 - acc: 0.9511 - val_loss: 4.0588 - val_acc: 0.4956\n",
      "Epoch 80/100\n",
      "50000/50000 [==============================] - 8s 163us/step - loss: 0.1431 - acc: 0.9517 - val_loss: 4.1834 - val_acc: 0.4924\n",
      "Epoch 81/100\n",
      "50000/50000 [==============================] - 9s 185us/step - loss: 0.1627 - acc: 0.9442 - val_loss: 4.1799 - val_acc: 0.4872\n",
      "Epoch 82/100\n",
      "50000/50000 [==============================] - 9s 180us/step - loss: 0.1345 - acc: 0.9553 - val_loss: 4.1243 - val_acc: 0.4954\n",
      "Epoch 83/100\n",
      "50000/50000 [==============================] - 8s 167us/step - loss: 0.1180 - acc: 0.9600 - val_loss: 4.2226 - val_acc: 0.4978\n",
      "Epoch 84/100\n",
      "50000/50000 [==============================] - 8s 164us/step - loss: 0.1401 - acc: 0.9527 - val_loss: 4.1554 - val_acc: 0.5017\n",
      "Epoch 85/100\n",
      "50000/50000 [==============================] - 8s 165us/step - loss: 0.1366 - acc: 0.9536 - val_loss: 4.1839 - val_acc: 0.4916\n",
      "Epoch 86/100\n",
      "50000/50000 [==============================] - 8s 169us/step - loss: 0.1620 - acc: 0.9454 - val_loss: 4.2147 - val_acc: 0.4918\n",
      "Epoch 87/100\n",
      "50000/50000 [==============================] - 9s 170us/step - loss: 0.1282 - acc: 0.9560 - val_loss: 4.2801 - val_acc: 0.4994\n",
      "Epoch 88/100\n",
      "50000/50000 [==============================] - 8s 169us/step - loss: 0.1348 - acc: 0.9553 - val_loss: 4.2570 - val_acc: 0.4980\n",
      "Epoch 89/100\n",
      "50000/50000 [==============================] - 8s 160us/step - loss: 0.1136 - acc: 0.9611 - val_loss: 4.3890 - val_acc: 0.4903\n",
      "Epoch 90/100\n",
      "50000/50000 [==============================] - 8s 166us/step - loss: 0.1540 - acc: 0.9487 - val_loss: 4.1982 - val_acc: 0.4903\n",
      "Epoch 91/100\n",
      "50000/50000 [==============================] - 9s 182us/step - loss: 0.1194 - acc: 0.9607 - val_loss: 4.2300 - val_acc: 0.4968\n",
      "Epoch 92/100\n",
      "50000/50000 [==============================] - 10s 198us/step - loss: 0.1133 - acc: 0.9615 - val_loss: 4.2626 - val_acc: 0.4973\n",
      "Epoch 93/100\n",
      "50000/50000 [==============================] - 11s 212us/step - loss: 0.1268 - acc: 0.9571 - val_loss: 4.2872 - val_acc: 0.4931\n",
      "Epoch 94/100\n",
      "50000/50000 [==============================] - 10s 200us/step - loss: 0.1382 - acc: 0.9535 - val_loss: 4.2808 - val_acc: 0.4874\n",
      "Epoch 95/100\n",
      "50000/50000 [==============================] - 11s 218us/step - loss: 0.1414 - acc: 0.9518 - val_loss: 4.3292 - val_acc: 0.4898\n",
      "Epoch 96/100\n",
      "50000/50000 [==============================] - 11s 229us/step - loss: 0.1206 - acc: 0.9591 - val_loss: 4.2699 - val_acc: 0.4973\n",
      "Epoch 97/100\n",
      "50000/50000 [==============================] - 11s 225us/step - loss: 0.1031 - acc: 0.9644 - val_loss: 4.4256 - val_acc: 0.4914\n",
      "Epoch 98/100\n",
      "50000/50000 [==============================] - 11s 221us/step - loss: 0.1231 - acc: 0.9586 - val_loss: 4.3925 - val_acc: 0.4899\n",
      "Epoch 99/100\n",
      "50000/50000 [==============================] - 12s 234us/step - loss: 0.1434 - acc: 0.9524 - val_loss: 4.2226 - val_acc: 0.4907\n",
      "Epoch 100/100\n",
      "50000/50000 [==============================] - 11s 219us/step - loss: 0.1042 - acc: 0.9647 - val_loss: 4.4402 - val_acc: 0.4949\n"
     ]
    },
    {
     "data": {
      "text/plain": [
       "<keras.callbacks.History at 0x2abc8a90898>"
      ]
     },
     "execution_count": 32,
     "metadata": {},
     "output_type": "execute_result"
    }
   ],
   "source": [
    "model.fit(x_train, y_train, \n",
    "          epochs=EPOCHS, \n",
    "          batch_size=BATCH_SIZE, \n",
    "          validation_data=(x_test, y_test), \n",
    "          shuffle=True)"
   ]
  },
  {
   "cell_type": "code",
   "execution_count": 34,
   "metadata": {},
   "outputs": [
    {
     "data": {
      "image/png": "[encoded data removed]",
      "text/plain": [
       "<Figure size 432x288 with 1 Axes>"
      ]
     },
     "metadata": {
      "needs_background": "light"
     },
     "output_type": "display_data"
    },
    {
     "data": {
      "image/png": "[encoded data removed]",
      "text/plain": [
       "<Figure size 432x288 with 1 Axes>"
      ]
     },
     "metadata": {
      "needs_background": "light"
     },
     "output_type": "display_data"
    }
   ],
   "source": [
    "import matplotlib.pyplot as plt\n",
    "\n",
    "\n",
    "train_loss = model.history.history[\"loss\"]\n",
    "valid_loss = model.history.history[\"val_loss\"]\n",
    "\n",
    "train_acc = model.history.history[\"acc\"]\n",
    "valid_acc = model.history.history[\"val_acc\"]\n",
    "\n",
    "plt.plot(range(len(train_loss)), train_loss, label=\"train loss\")\n",
    "plt.plot(range(len(valid_loss)), valid_loss, label=\"valid loss\")\n",
    "plt.legend()\n",
    "plt.title(\"Loss\")\n",
    "plt.show()\n",
    "\n",
    "plt.plot(range(len(train_acc)), train_acc, label=\"train accuracy\")\n",
    "plt.plot(range(len(valid_acc)), valid_acc, label=\"valid accuracy\")\n",
    "plt.legend()\n",
    "plt.title(\"Accuracy\")\n",
    "plt.show()"
   ]
  },
  {
   "cell_type": "code",
   "execution_count": null,
   "metadata": {},
   "outputs": [],
   "source": []
  }
 ],
 "metadata": {
  "kernelspec": {
   "display_name": "Python 3",
   "language": "python",
   "name": "python3"
  },
  "language_info": {
   "codemirror_mode": {
    "name": "ipython",
    "version": 3
   },
   "file_extension": ".py",
   "mimetype": "text/x-python",
   "name": "python",
   "nbconvert_exporter": "python",
   "pygments_lexer": "ipython3",
   "version": "3.6.8"
  }
 },
 "nbformat": 4,
 "nbformat_minor": 2
}
