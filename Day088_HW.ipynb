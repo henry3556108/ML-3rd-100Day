{
 "cells": [
  {
   "cell_type": "markdown",
   "metadata": {},
   "source": [
    "## Work\n",
    "1. 請嘗試寫一個 callback 用來記錄各類別在訓練過程中，對驗證集的 True Positive 與 True Negative"
   ]
  },
  {
   "cell_type": "code",
   "execution_count": 1,
   "metadata": {},
   "outputs": [
    {
     "name": "stderr",
     "output_type": "stream",
     "text": [
      "Using TensorFlow backend.\n",
      "c:\\users\\henry\\appdata\\local\\programs\\python\\python36\\lib\\site-packages\\tensorflow\\python\\framework\\dtypes.py:526: FutureWarning: Passing (type, 1) or '1type' as a synonym of type is deprecated; in a future version of numpy, it will be understood as (type, (1,)) / '(1,)type'.\n",
      "  _np_qint8 = np.dtype([(\"qint8\", np.int8, 1)])\n",
      "c:\\users\\henry\\appdata\\local\\programs\\python\\python36\\lib\\site-packages\\tensorflow\\python\\framework\\dtypes.py:527: FutureWarning: Passing (type, 1) or '1type' as a synonym of type is deprecated; in a future version of numpy, it will be understood as (type, (1,)) / '(1,)type'.\n",
      "  _np_quint8 = np.dtype([(\"quint8\", np.uint8, 1)])\n",
      "c:\\users\\henry\\appdata\\local\\programs\\python\\python36\\lib\\site-packages\\tensorflow\\python\\framework\\dtypes.py:528: FutureWarning: Passing (type, 1) or '1type' as a synonym of type is deprecated; in a future version of numpy, it will be understood as (type, (1,)) / '(1,)type'.\n",
      "  _np_qint16 = np.dtype([(\"qint16\", np.int16, 1)])\n",
      "c:\\users\\henry\\appdata\\local\\programs\\python\\python36\\lib\\site-packages\\tensorflow\\python\\framework\\dtypes.py:529: FutureWarning: Passing (type, 1) or '1type' as a synonym of type is deprecated; in a future version of numpy, it will be understood as (type, (1,)) / '(1,)type'.\n",
      "  _np_quint16 = np.dtype([(\"quint16\", np.uint16, 1)])\n",
      "c:\\users\\henry\\appdata\\local\\programs\\python\\python36\\lib\\site-packages\\tensorflow\\python\\framework\\dtypes.py:530: FutureWarning: Passing (type, 1) or '1type' as a synonym of type is deprecated; in a future version of numpy, it will be understood as (type, (1,)) / '(1,)type'.\n",
      "  _np_qint32 = np.dtype([(\"qint32\", np.int32, 1)])\n",
      "c:\\users\\henry\\appdata\\local\\programs\\python\\python36\\lib\\site-packages\\tensorflow\\python\\framework\\dtypes.py:535: FutureWarning: Passing (type, 1) or '1type' as a synonym of type is deprecated; in a future version of numpy, it will be understood as (type, (1,)) / '(1,)type'.\n",
      "  np_resource = np.dtype([(\"resource\", np.ubyte, 1)])\n"
     ]
    }
   ],
   "source": [
    "import os\n",
    "import keras\n",
    "\n",
    "# Disable GPU\n",
    "os.environ[\"CUDA_VISIBLE_DEVICES\"] = \"0\""
   ]
  },
  {
   "cell_type": "code",
   "execution_count": 2,
   "metadata": {},
   "outputs": [],
   "source": [
    "train, test = keras.datasets.cifar10.load_data()"
   ]
  },
  {
   "cell_type": "code",
   "execution_count": 3,
   "metadata": {},
   "outputs": [],
   "source": [
    "## 資料前處理\n",
    "def preproc_x(x, flatten=True):\n",
    "    x = x / 255.\n",
    "    if flatten:\n",
    "        x = x.reshape((len(x), -1))\n",
    "    return x\n",
    "\n",
    "def preproc_y(y, num_classes=10):\n",
    "    if y.shape[-1] == 1:\n",
    "        y = keras.utils.to_categorical(y, num_classes)\n",
    "    return y    "
   ]
  },
  {
   "cell_type": "code",
   "execution_count": 4,
   "metadata": {},
   "outputs": [],
   "source": [
    "x_train, y_train = train\n",
    "x_test, y_test = test\n",
    "\n",
    "# Preproc the inputs\n",
    "x_train = preproc_x(x_train)\n",
    "x_test = preproc_x(x_test)\n",
    "\n",
    "# Preprc the outputs\n",
    "y_train = preproc_y(y_train)\n",
    "y_test = preproc_y(y_test)"
   ]
  },
  {
   "cell_type": "code",
   "execution_count": 5,
   "metadata": {},
   "outputs": [],
   "source": [
    "from keras.layers import BatchNormalization\n",
    "\n",
    "\"\"\"\n",
    "建立神經網路，並加入 BN layer\n",
    "\"\"\"\n",
    "def build_mlp(input_shape, output_units=10, num_neurons=[512, 256, 128]):\n",
    "    input_layer = keras.layers.Input(input_shape)\n",
    "    \n",
    "    for i, n_units in enumerate(num_neurons):\n",
    "        if i == 0:\n",
    "            x = keras.layers.Dense(units=n_units, \n",
    "                                   activation=\"relu\", \n",
    "                                   name=\"hidden_layer\"+str(i+1))(input_layer)\n",
    "            x = BatchNormalization()(x)\n",
    "        else:\n",
    "            x = keras.layers.Dense(units=n_units, \n",
    "                                   activation=\"relu\", \n",
    "                                   name=\"hidden_layer\"+str(i+1))(x)\n",
    "            x = BatchNormalization()(x)\n",
    "    \n",
    "    out = keras.layers.Dense(units=output_units, activation=\"softmax\", name=\"output\")(x)\n",
    "    \n",
    "    model = keras.models.Model(inputs=[input_layer], outputs=[out])\n",
    "    return model"
   ]
  },
  {
   "cell_type": "code",
   "execution_count": 6,
   "metadata": {},
   "outputs": [],
   "source": [
    "## 超參數設定\n",
    "LEARNING_RATE = 1e-3\n",
    "EPOCHS = 50\n",
    "BATCH_SIZE = 512\n",
    "MOMENTUM = 0.95"
   ]
  },
  {
   "cell_type": "code",
   "execution_count": 7,
   "metadata": {},
   "outputs": [],
   "source": [
    "\n",
    "# 載入 Callbacks\n",
    "from keras.callbacks import Callback\n",
    "\n",
    "# Record_fp_tp\n",
    "class Record_fp_tp(Callback):\n",
    "    \"\"\"Define a callback function to collect tp/tn, named Record_fp_tp.\n",
    "    \"\"\"\n",
    "    def on_train_begin(self, epoch, logs = {}):\n",
    "        logs = logs or {}\n",
    "        record_items = [\"val_auc\", \"val_f1sc\", \"val_fp\", \"val_fn\", \"val_tp\", \"val_tn\"]\n",
    "        for i in record_items:\n",
    "            if i not in self.params['metrics']:\n",
    "                self.params['metrics'].append(i)\n",
    "                \n",
    "    def on_epoch_end(self, epoch, logs = {}, thres=0.5):\n",
    "        logs = logs or {}\n",
    "        y_true = self.validation_data[1].argmax(axis = 1)\n",
    "        y_pred = self.model.predict(self.validation_data[0])\n",
    "        y_pred = (y_pred[:, 1] >= thres) * 1\n",
    "        \n",
    "        from sklearn.metrics import recall_score\n",
    "        # True positive rate, Recall, Sensitivity \n",
    "        logs['val_tp'] = recall_score(y_true, y_pred, average='weighted')\n",
    "        \n",
    "rec_tptn = Record_fp_tp()"
   ]
  },
  {
   "cell_type": "code",
   "execution_count": 9,
   "metadata": {
    "scrolled": true
   },
   "outputs": [
    {
     "name": "stdout",
     "output_type": "stream",
     "text": [
      "_________________________________________________________________\n",
      "Layer (type)                 Output Shape              Param #   \n",
      "=================================================================\n",
      "input_2 (InputLayer)         (None, 3072)              0         \n",
      "_________________________________________________________________\n",
      "hidden_layer1 (Dense)        (None, 512)               1573376   \n",
      "_________________________________________________________________\n",
      "batch_normalization_4 (Batch (None, 512)               2048      \n",
      "_________________________________________________________________\n",
      "hidden_layer2 (Dense)        (None, 256)               131328    \n",
      "_________________________________________________________________\n",
      "batch_normalization_5 (Batch (None, 256)               1024      \n",
      "_________________________________________________________________\n",
      "hidden_layer3 (Dense)        (None, 128)               32896     \n",
      "_________________________________________________________________\n",
      "batch_normalization_6 (Batch (None, 128)               512       \n",
      "_________________________________________________________________\n",
      "output (Dense)               (None, 10)                1290      \n",
      "=================================================================\n",
      "Total params: 1,742,474\n",
      "Trainable params: 1,740,682\n",
      "Non-trainable params: 1,792\n",
      "_________________________________________________________________\n",
      "WARNING:tensorflow:From c:\\users\\henry\\appdata\\local\\programs\\python\\python36\\lib\\site-packages\\tensorflow\\python\\ops\\math_ops.py:3066: to_int32 (from tensorflow.python.ops.math_ops) is deprecated and will be removed in a future version.\n",
      "Instructions for updating:\n",
      "Use tf.cast instead.\n",
      "Train on 50000 samples, validate on 10000 samples\n",
      "Epoch 1/50\n",
      "50000/50000 [==============================] - 14s 273us/step - loss: 2.0363 - acc: 0.3172 - val_loss: 1.9367 - val_acc: 0.3547\n",
      "Epoch 2/50\n",
      "50000/50000 [==============================] - 11s 216us/step - loss: 1.6438 - acc: 0.4261 - val_loss: 1.7266 - val_acc: 0.3909\n",
      "Epoch 3/50\n",
      "50000/50000 [==============================] - 11s 215us/step - loss: 1.5306 - acc: 0.4665 - val_loss: 1.6147 - val_acc: 0.4252\n",
      "Epoch 4/50\n",
      "50000/50000 [==============================] - 11s 212us/step - loss: 1.4531 - acc: 0.4932 - val_loss: 1.5631 - val_acc: 0.4475\n",
      "Epoch 5/50\n",
      "50000/50000 [==============================] - 11s 220us/step - loss: 1.3944 - acc: 0.5138 - val_loss: 1.5442 - val_acc: 0.4570\n",
      "Epoch 6/50\n",
      "50000/50000 [==============================] - 10s 210us/step - loss: 1.3448 - acc: 0.5319 - val_loss: 1.5233 - val_acc: 0.4639\n",
      "Epoch 7/50\n",
      "50000/50000 [==============================] - 11s 227us/step - loss: 1.3001 - acc: 0.5456 - val_loss: 1.4831 - val_acc: 0.4772\n",
      "Epoch 8/50\n",
      "50000/50000 [==============================] - 11s 211us/step - loss: 1.2599 - acc: 0.5632 - val_loss: 1.5146 - val_acc: 0.4632\n",
      "Epoch 9/50\n",
      "50000/50000 [==============================] - 10s 209us/step - loss: 1.2231 - acc: 0.5750 - val_loss: 1.4793 - val_acc: 0.4809\n",
      "Epoch 10/50\n",
      "50000/50000 [==============================] - 11s 225us/step - loss: 1.1858 - acc: 0.5911 - val_loss: 1.4714 - val_acc: 0.4822\n",
      "Epoch 11/50\n",
      "50000/50000 [==============================] - 11s 221us/step - loss: 1.1518 - acc: 0.6034 - val_loss: 1.4580 - val_acc: 0.4869\n",
      "Epoch 12/50\n",
      "50000/50000 [==============================] - 11s 225us/step - loss: 1.1202 - acc: 0.6161 - val_loss: 1.4608 - val_acc: 0.4873\n",
      "Epoch 13/50\n",
      "50000/50000 [==============================] - 12s 238us/step - loss: 1.0863 - acc: 0.6293 - val_loss: 1.4513 - val_acc: 0.4906\n",
      "Epoch 14/50\n",
      "50000/50000 [==============================] - 9s 189us/step - loss: 1.0596 - acc: 0.6392 - val_loss: 1.4911 - val_acc: 0.4815\n",
      "Epoch 15/50\n",
      "50000/50000 [==============================] - 9s 178us/step - loss: 1.0249 - acc: 0.6491 - val_loss: 1.4817 - val_acc: 0.4904\n",
      "Epoch 16/50\n",
      "50000/50000 [==============================] - 11s 212us/step - loss: 0.9947 - acc: 0.6629 - val_loss: 1.4538 - val_acc: 0.4987\n",
      "Epoch 17/50\n",
      "50000/50000 [==============================] - 11s 219us/step - loss: 0.9642 - acc: 0.6733 - val_loss: 1.4745 - val_acc: 0.4949\n",
      "Epoch 18/50\n",
      "50000/50000 [==============================] - 10s 209us/step - loss: 0.9352 - acc: 0.6860 - val_loss: 1.4652 - val_acc: 0.4979\n",
      "Epoch 19/50\n",
      "50000/50000 [==============================] - 10s 202us/step - loss: 0.9076 - acc: 0.6947 - val_loss: 1.5172 - val_acc: 0.4900\n",
      "Epoch 20/50\n",
      "50000/50000 [==============================] - 11s 214us/step - loss: 0.8770 - acc: 0.7048 - val_loss: 1.4935 - val_acc: 0.4986\n",
      "Epoch 21/50\n",
      "50000/50000 [==============================] - 12s 241us/step - loss: 0.8480 - acc: 0.7157 - val_loss: 1.5113 - val_acc: 0.4912\n",
      "Epoch 22/50\n",
      "50000/50000 [==============================] - 12s 232us/step - loss: 0.8242 - acc: 0.7250 - val_loss: 1.5249 - val_acc: 0.4867\n",
      "Epoch 23/50\n",
      "50000/50000 [==============================] - 11s 210us/step - loss: 0.7962 - acc: 0.7358 - val_loss: 1.5491 - val_acc: 0.4913\n",
      "Epoch 24/50\n",
      "50000/50000 [==============================] - 11s 229us/step - loss: 0.7667 - acc: 0.7464 - val_loss: 1.5372 - val_acc: 0.4990\n",
      "Epoch 25/50\n",
      "50000/50000 [==============================] - 11s 226us/step - loss: 0.7374 - acc: 0.7584 - val_loss: 1.5481 - val_acc: 0.4939\n",
      "Epoch 26/50\n",
      "50000/50000 [==============================] - 12s 233us/step - loss: 0.7158 - acc: 0.7669 - val_loss: 1.5668 - val_acc: 0.4948\n",
      "Epoch 27/50\n",
      "50000/50000 [==============================] - 12s 243us/step - loss: 0.6889 - acc: 0.7765 - val_loss: 1.5856 - val_acc: 0.4944\n",
      "Epoch 28/50\n",
      "50000/50000 [==============================] - 12s 238us/step - loss: 0.6641 - acc: 0.7856 - val_loss: 1.5846 - val_acc: 0.4943\n",
      "Epoch 29/50\n",
      "50000/50000 [==============================] - 11s 226us/step - loss: 0.6361 - acc: 0.7969 - val_loss: 1.6142 - val_acc: 0.4953\n",
      "Epoch 30/50\n",
      "50000/50000 [==============================] - 12s 247us/step - loss: 0.6154 - acc: 0.8038 - val_loss: 1.6401 - val_acc: 0.4881\n",
      "Epoch 31/50\n",
      "50000/50000 [==============================] - 12s 243us/step - loss: 0.5856 - acc: 0.8162 - val_loss: 1.6677 - val_acc: 0.4961\n",
      "Epoch 32/50\n",
      "50000/50000 [==============================] - 11s 221us/step - loss: 0.5655 - acc: 0.8258 - val_loss: 1.6325 - val_acc: 0.4968\n",
      "Epoch 33/50\n",
      "50000/50000 [==============================] - 11s 210us/step - loss: 0.5376 - acc: 0.8347 - val_loss: 1.6838 - val_acc: 0.4892\n",
      "Epoch 34/50\n",
      "50000/50000 [==============================] - 12s 241us/step - loss: 0.5164 - acc: 0.8408 - val_loss: 1.7185 - val_acc: 0.4931\n",
      "Epoch 35/50\n",
      "50000/50000 [==============================] - 11s 222us/step - loss: 0.4967 - acc: 0.8499 - val_loss: 1.7793 - val_acc: 0.4813\n",
      "Epoch 36/50\n",
      "50000/50000 [==============================] - 11s 220us/step - loss: 0.4694 - acc: 0.8604 - val_loss: 1.7380 - val_acc: 0.4893\n",
      "Epoch 37/50\n",
      "50000/50000 [==============================] - 10s 203us/step - loss: 0.4477 - acc: 0.8699 - val_loss: 1.7561 - val_acc: 0.4806\n",
      "Epoch 38/50\n",
      "50000/50000 [==============================] - 11s 217us/step - loss: 0.4295 - acc: 0.8758 - val_loss: 1.8294 - val_acc: 0.4784\n",
      "Epoch 39/50\n",
      "50000/50000 [==============================] - 10s 204us/step - loss: 0.4087 - acc: 0.8823 - val_loss: 1.8202 - val_acc: 0.4894\n",
      "Epoch 40/50\n",
      "50000/50000 [==============================] - 10s 206us/step - loss: 0.3857 - acc: 0.8922 - val_loss: 1.8232 - val_acc: 0.4895\n",
      "Epoch 41/50\n",
      "50000/50000 [==============================] - 11s 210us/step - loss: 0.3697 - acc: 0.8980 - val_loss: 1.8296 - val_acc: 0.4886\n",
      "Epoch 42/50\n",
      "50000/50000 [==============================] - 12s 234us/step - loss: 0.3477 - acc: 0.9063 - val_loss: 1.9112 - val_acc: 0.4905\n",
      "Epoch 43/50\n",
      "50000/50000 [==============================] - 11s 228us/step - loss: 0.3313 - acc: 0.9135 - val_loss: 1.9319 - val_acc: 0.4903\n",
      "Epoch 44/50\n",
      "50000/50000 [==============================] - 11s 225us/step - loss: 0.3124 - acc: 0.9192 - val_loss: 1.9454 - val_acc: 0.4834\n",
      "Epoch 45/50\n",
      "50000/50000 [==============================] - 11s 220us/step - loss: 0.2950 - acc: 0.9268 - val_loss: 1.9279 - val_acc: 0.4828\n",
      "Epoch 46/50\n",
      "50000/50000 [==============================] - 10s 203us/step - loss: 0.2820 - acc: 0.9305 - val_loss: 2.0077 - val_acc: 0.4884\n",
      "Epoch 47/50\n"
     ]
    },
    {
     "name": "stdout",
     "output_type": "stream",
     "text": [
      "50000/50000 [==============================] - 7s 143us/step - loss: 0.2663 - acc: 0.9360 - val_loss: 2.0290 - val_acc: 0.4845\n",
      "Epoch 48/50\n",
      "50000/50000 [==============================] - 10s 206us/step - loss: 0.2540 - acc: 0.9393 - val_loss: 1.9934 - val_acc: 0.4904\n",
      "Epoch 49/50\n",
      "50000/50000 [==============================] - 10s 209us/step - loss: 0.2378 - acc: 0.9451 - val_loss: 2.0414 - val_acc: 0.4846\n",
      "Epoch 50/50\n",
      "50000/50000 [==============================] - 10s 208us/step - loss: 0.2228 - acc: 0.9499 - val_loss: 2.0445 - val_acc: 0.4801\n"
     ]
    }
   ],
   "source": [
    "model = build_mlp(input_shape=x_train.shape[1:])\n",
    "model.summary()\n",
    "optimizer = keras.optimizers.SGD(lr=LEARNING_RATE, nesterov=True, momentum=MOMENTUM)\n",
    "model.compile(loss=\"categorical_crossentropy\", metrics=[\"accuracy\"], optimizer=optimizer)\n",
    "\n",
    "model.fit(x_train, y_train, \n",
    "          epochs=EPOCHS, \n",
    "          batch_size=BATCH_SIZE, \n",
    "          validation_data=(x_test, y_test), \n",
    "          shuffle=True,\n",
    "          callbacks=[rec_tptn])\n",
    "\n",
    "\n",
    "# Collect results\n",
    "train_loss = model.history.history[\"loss\"]\n",
    "valid_loss = model.history.history[\"val_loss\"]\n",
    "train_acc = model.history.history[\"acc\"]\n",
    "valid_acc = model.history.history[\"val_acc\"]\n",
    "\n",
    "\"\"\"\n",
    "To do:\n",
    "Collect tp/tn from model history\n",
    "\"\"\"\n",
    "valid_tp = model.history.history[\"val_tp\"]\n",
    "valid_tn = [acc * 2 - tp for (acc, tp) in zip(valid_acc, valid_tp)]"
   ]
  },
  {
   "cell_type": "code",
   "execution_count": 10,
   "metadata": {},
   "outputs": [
    {
     "data": {
      "image/png": "[encoded data removed]",
      "text/plain": [
       "<Figure size 432x288 with 1 Axes>"
      ]
     },
     "metadata": {
      "needs_background": "light"
     },
     "output_type": "display_data"
    },
    {
     "data": {
      "image/png": "[encoded data removed]",
      "text/plain": [
       "<Figure size 432x288 with 1 Axes>"
      ]
     },
     "metadata": {
      "needs_background": "light"
     },
     "output_type": "display_data"
    },
    {
     "data": {
      "image/png": "[encoded data removed]",
      "text/plain": [
       "<Figure size 432x288 with 1 Axes>"
      ]
     },
     "metadata": {
      "needs_background": "light"
     },
     "output_type": "display_data"
    }
   ],
   "source": [
    "import matplotlib.pyplot as plt\n",
    "%matplotlib inline\n",
    "\n",
    "plt.plot(range(len(train_loss)), train_loss, label=\"train loss\")\n",
    "plt.plot(range(len(valid_loss)), valid_loss, label=\"valid loss\")\n",
    "plt.legend()\n",
    "plt.title(\"Loss\")\n",
    "plt.show()\n",
    "\n",
    "plt.plot(range(len(train_acc)), train_acc, label=\"train accuracy\")\n",
    "plt.plot(range(len(valid_acc)), valid_acc, label=\"valid accuracy\")\n",
    "plt.legend()\n",
    "plt.title(\"Accuracy\")\n",
    "plt.show()\n",
    "\n",
    "plt.plot(range(len(valid_tp)), valid_tp, label=\"valid tp\", color=\"navy\")\n",
    "plt.plot(range(len(valid_tn)), valid_tn, label=\"valid tn\", color=\"red\")\n",
    "plt.legend()\n",
    "plt.title(\"True positives and True Negatives\")\n",
    "plt.show()\n"
   ]
  },
  {
   "cell_type": "code",
   "execution_count": null,
   "metadata": {},
   "outputs": [],
   "source": []
  }
 ],
 "metadata": {
  "kernelspec": {
   "display_name": "Python 3",
   "language": "python",
   "name": "python3"
  },
  "language_info": {
   "codemirror_mode": {
    "name": "ipython",
    "version": 3
   },
   "file_extension": ".py",
   "mimetype": "text/x-python",
   "name": "python",
   "nbconvert_exporter": "python",
   "pygments_lexer": "ipython3",
   "version": "3.6.8"
  }
 },
 "nbformat": 4,
 "nbformat_minor": 2
}
